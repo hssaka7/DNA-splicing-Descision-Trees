{
 "cells": [
  {
   "cell_type": "code",
   "execution_count": 1,
   "metadata": {
    "scrolled": true
   },
   "outputs": [],
   "source": [
    "import csv\n",
    "import numpy as np\n",
    "from structure import Node,Gene\n",
    "\n",
    "\n",
    "def dataToNode(location):\n",
    "    genes = [];\n",
    "    with open(location,'r') as csvFileObject:\n",
    "         csvReader = csv.reader(csvFileObject)\n",
    "         for line in csvReader:\n",
    "             genes.append(Gene(line[1],line[2]))\n",
    "    return genes\n",
    "\n",
    "def createFun(pos):\n",
    "    def fuctionToReturn(label):\n",
    "        return label[pos]\n",
    "    return fuctionToReturn\n",
    "\n",
    "\n",
    "\n",
    "genes = dataToNode(\"data/training.csv\")\n",
    "functions = [createFun(x) for x in range(0,60)]\n",
    "nodes = [Node(genes,functions)]\n",
    "\n",
    "\n",
    "node.split()\n"
   ]
  },
  {
   "cell_type": "code",
   "execution_count": 2,
   "metadata": {},
   "outputs": [
    {
     "data": {
      "text/plain": [
       "{'A': <structure.Node at 0x7f3bf8058b00>,\n",
       " 'C': <structure.Node at 0x7f3bf8058b38>,\n",
       " 'G': <structure.Node at 0x7f3bf8058b70>,\n",
       " 'N': <structure.Node at 0x7f3bf8058ba8>,\n",
       " 'T': <structure.Node at 0x7f3bf8058be0>}"
      ]
     },
     "execution_count": 2,
     "metadata": {},
     "output_type": "execute_result"
    }
   ],
   "source": [
    "node.nodes"
   ]
  },
  {
   "cell_type": "code",
   "execution_count": 6,
   "metadata": {},
   "outputs": [
    {
     "data": {
      "text/plain": [
       "59"
      ]
     },
     "execution_count": 6,
     "metadata": {},
     "output_type": "execute_result"
    }
   ],
   "source": [
    "len(node.nodes['C'].functions)"
   ]
  },
  {
   "cell_type": "code",
   "execution_count": null,
   "metadata": {},
   "outputs": [],
   "source": []
  }
 ],
 "metadata": {
  "kernelspec": {
   "display_name": "Python 3",
   "language": "python",
   "name": "python3"
  },
  "language_info": {
   "codemirror_mode": {
    "name": "ipython",
    "version": 3
   },
   "file_extension": ".py",
   "mimetype": "text/x-python",
   "name": "python",
   "nbconvert_exporter": "python",
   "pygments_lexer": "ipython3",
   "version": "3.5.2"
  }
 },
 "nbformat": 4,
 "nbformat_minor": 2
}
