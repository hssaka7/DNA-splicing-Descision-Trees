{
 "cells": [
  {
   "cell_type": "code",
   "execution_count": 25,
   "metadata": {},
   "outputs": [
    {
     "name": "stdout",
     "output_type": "stream",
     "text": [
      "2000\n"
     ]
    }
   ],
   "source": [
    "import csv\n",
    "from structure import Node,Gene\n",
    "\n",
    "\n",
    "def dataToNode(location):\n",
    "    genes = [];\n",
    "    with open(location,'r') as csvFileObject:\n",
    "         csvReader = csv.reader(csvFileObject)\n",
    "         for line in csvReader:\n",
    "             genes.append(Gene(line[1],line[2]))\n",
    "    return genes\n",
    "\n",
    "def createFun(pos):\n",
    "    def fuctionToReturn(label):\n",
    "        return label[pos]\n",
    "    return fuctionToReturn\n",
    "\n",
    "\n",
    "\n",
    "genes = dataToNode(\"data/training.csv\")\n",
    "node = Node(genes)\n",
    "node.splitNode(createFun(1))"
   ]
  },
  {
   "cell_type": "code",
   "execution_count": null,
   "metadata": {},
   "outputs": [],
   "source": []
  }
 ],
 "metadata": {
  "kernelspec": {
   "display_name": "Python 3",
   "language": "python",
   "name": "python3"
  },
  "language_info": {
   "codemirror_mode": {
    "name": "ipython",
    "version": 3
   },
   "file_extension": ".py",
   "mimetype": "text/x-python",
   "name": "python",
   "nbconvert_exporter": "python",
   "pygments_lexer": "ipython3",
   "version": "3.5.2"
  }
 },
 "nbformat": 4,
 "nbformat_minor": 2
}
